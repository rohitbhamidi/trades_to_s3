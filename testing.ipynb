{
 "cells": [
  {
   "cell_type": "code",
   "execution_count": 1,
   "metadata": {},
   "outputs": [],
   "source": [
    "import os\n",
    "from dotenv import load_dotenv\n",
    "\n",
    "# Snowflake ML / Snowpark imports\n",
    "import snowflake.snowpark as snowpark\n",
    "from snowflake.ml.model import custom_model\n",
    "from snowflake.ml.registry import Registry\n",
    "\n",
    "# Standard Python / ML imports\n",
    "import pandas as pd\n",
    "import joblib\n"
   ]
  },
  {
   "cell_type": "code",
   "execution_count": 2,
   "metadata": {},
   "outputs": [],
   "source": [
    "# 1. Load environment variables from .env\n",
    "load_dotenv()\n",
    "\n",
    "SNOWFLAKE_USER = os.getenv(\"SNOWFLAKE_USER\")\n",
    "SNOWFLAKE_PASSWORD = os.getenv(\"SNOWFLAKE_PASSWORD\")\n",
    "SNOWFLAKE_ACCOUNT = os.getenv(\"SNOWFLAKE_ACCOUNT\")\n",
    "SNOWFLAKE_DATABASE = os.getenv(\"SNOWFLAKE_DATABASE\")\n",
    "SNOWFLAKE_SCHEMA = os.getenv(\"SNOWFLAKE_SCHEMA\")\n",
    "SNOWFLAKE_WAREHOUSE = os.getenv(\"SNOWFLAKE_WAREHOUSE\")\n",
    "SNOWFLAKE_ROLE = os.getenv(\"SNOWFLAKE_ROLE\")"
   ]
  },
  {
   "cell_type": "code",
   "execution_count": 3,
   "metadata": {},
   "outputs": [],
   "source": [
    "# 2. Build Snowflake connection parameters for Snowpark\n",
    "connection_parameters = {\n",
    "    \"account\": SNOWFLAKE_ACCOUNT,\n",
    "    \"user\": SNOWFLAKE_USER,\n",
    "    \"password\": SNOWFLAKE_PASSWORD,\n",
    "    \"role\": SNOWFLAKE_ROLE,\n",
    "    \"warehouse\": SNOWFLAKE_WAREHOUSE,\n",
    "    \"database\": SNOWFLAKE_DATABASE,\n",
    "    \"schema\": SNOWFLAKE_SCHEMA\n",
    "}"
   ]
  },
  {
   "cell_type": "code",
   "execution_count": 4,
   "metadata": {},
   "outputs": [
    {
     "name": "stdout",
     "output_type": "stream",
     "text": [
      "Snowpark session created.\n"
     ]
    }
   ],
   "source": [
    "# 3. Create a Snowpark session\n",
    "session = snowpark.Session.builder.configs(connection_parameters).create()\n",
    "print(\"Snowpark session created.\")"
   ]
  },
  {
   "cell_type": "code",
   "execution_count": 5,
   "metadata": {},
   "outputs": [],
   "source": [
    "# 4. Provide context for your local .pkl model\n",
    "from snowflake.ml.model.custom_model import ModelContext\n",
    "model_context = ModelContext(model_file=\"anomaly_model.pkl\")"
   ]
  },
  {
   "cell_type": "code",
   "execution_count": 6,
   "metadata": {},
   "outputs": [],
   "source": [
    "# 5. Define a custom model class that loads your .pkl model\n",
    "class AnomalyDetectionModel(custom_model.CustomModel):\n",
    "    def __init__(self, context):\n",
    "        super().__init__(context)\n",
    "        # Load the model from the .pkl file\n",
    "        model_path = self.context[\"model_file\"]\n",
    "        print(f\"Loading local model from: {model_path}\")\n",
    "        self.model = joblib.load(model_path)\n",
    "\n",
    "    @custom_model.inference_api\n",
    "    def predict(self, X: pd.DataFrame) -> pd.DataFrame:\n",
    "        \"\"\"\n",
    "        Your prediction logic. \n",
    "        Typically for an Isolation Forest: -1 = anomaly, 1 = normal.\n",
    "        We'll return both raw predictions and a 'tag' column.\n",
    "        \"\"\"\n",
    "        predictions = self.model.predict(X)\n",
    "        tags = [\"anomaly\" if p == -1 else \"normal\" for p in predictions]\n",
    "        # Return them as columns in a DataFrame\n",
    "        return pd.DataFrame({\"prediction\": predictions, \"anomaly_tag\": tags})"
   ]
  },
  {
   "cell_type": "code",
   "execution_count": 7,
   "metadata": {},
   "outputs": [
    {
     "name": "stdout",
     "output_type": "stream",
     "text": [
      "Loading local model from: anomaly_model.pkl\n"
     ]
    },
    {
     "name": "stderr",
     "output_type": "stream",
     "text": [
      "/Users/rohitbhamidipati/Documents/trades_to_s3/snowpark_env/lib/python3.11/site-packages/sklearn/base.py:376: InconsistentVersionWarning: Trying to unpickle estimator ExtraTreeRegressor from version 1.6.1 when using version 1.5.2. This might lead to breaking code or invalid results. Use at your own risk. For more info please refer to:\n",
      "https://scikit-learn.org/stable/model_persistence.html#security-maintainability-limitations\n",
      "  warnings.warn(\n",
      "/Users/rohitbhamidipati/Documents/trades_to_s3/snowpark_env/lib/python3.11/site-packages/sklearn/base.py:376: InconsistentVersionWarning: Trying to unpickle estimator IsolationForest from version 1.6.1 when using version 1.5.2. This might lead to breaking code or invalid results. Use at your own risk. For more info please refer to:\n",
      "https://scikit-learn.org/stable/model_persistence.html#security-maintainability-limitations\n",
      "  warnings.warn(\n"
     ]
    }
   ],
   "source": [
    "# 6. Instantiate your custom model class\n",
    "anomaly_model = AnomalyDetectionModel(model_context)"
   ]
  },
  {
   "cell_type": "code",
   "execution_count": 8,
   "metadata": {},
   "outputs": [],
   "source": [
    "# 7. Provide a small sample of data that matches the features your .pkl expects\n",
    "#    (In your case, 'price' and 'size' might be the main features.)\n",
    "sample_data = pd.DataFrame({\n",
    "    \"price\": [100.0, 105.5],\n",
    "    \"size\": [10, 20]\n",
    "})"
   ]
  },
  {
   "cell_type": "code",
   "execution_count": 9,
   "metadata": {},
   "outputs": [
    {
     "name": "stderr",
     "output_type": "stream",
     "text": [
      "/Users/rohitbhamidipati/Documents/trades_to_s3/snowpark_env/lib/python3.11/site-packages/snowflake/ml/model/_model_composer/model_composer.py:181: UserWarning: `relax_version` is not set and therefore defaulted to True. Dependency version constraints relaxed from ==x.y.z to >=x.y, <(x+1). To use specific dependency versions for compatibility, reproducibility, etc., set `options={'relax_version': False}` when logging the model.\n",
      "  self.manifest.save(\n"
     ]
    },
    {
     "name": "stdout",
     "output_type": "stream",
     "text": [
      "Model registered successfully. Version info:\n"
     ]
    },
    {
     "data": {
      "text/plain": [
       "[{'name': 'PREDICT',\n",
       "  'target_method': 'predict',\n",
       "  'target_method_function_type': 'FUNCTION',\n",
       "  'signature': ModelSignature(\n",
       "                      inputs=[\n",
       "                          FeatureSpec(dtype=DataType.DOUBLE, name='price', nullable=True),\n",
       "  \t\tFeatureSpec(dtype=DataType.INT64, name='size', nullable=True)\n",
       "                      ],\n",
       "                      outputs=[\n",
       "                          FeatureSpec(dtype=DataType.INT64, name='prediction', nullable=True),\n",
       "  \t\tFeatureSpec(dtype=DataType.STRING, name='anomaly_tag', nullable=True)\n",
       "                      ]\n",
       "                  ),\n",
       "  'is_partitioned': False}]"
      ]
     },
     "execution_count": 9,
     "metadata": {},
     "output_type": "execute_result"
    }
   ],
   "source": [
    "# 8. Register the model in Snowflake Model Registry\n",
    "registry = Registry(session=session)\n",
    "\n",
    "model_version = registry.log_model(\n",
    "    model=anomaly_model,\n",
    "    model_name=\"anomaly_detection_model\",\n",
    "    version_name=\"v1\",  # or another version label\n",
    "    conda_dependencies=[\"scikit-learn\", \"joblib\", \"pandas\"],  # Required deps\n",
    "    sample_input_data=sample_data,\n",
    "    comment=\"IsolationForest anomaly detection model\"\n",
    ")\n",
    "\n",
    "print(\"Model registered successfully. Version info:\")\n",
    "model_version.show_functions()"
   ]
  },
  {
   "cell_type": "code",
   "execution_count": 10,
   "metadata": {},
   "outputs": [
    {
     "name": "stdout",
     "output_type": "stream",
     "text": [
      "List of models in the registry:\n"
     ]
    },
    {
     "data": {
      "text/html": [
       "<div>\n",
       "<style scoped>\n",
       "    .dataframe tbody tr th:only-of-type {\n",
       "        vertical-align: middle;\n",
       "    }\n",
       "\n",
       "    .dataframe tbody tr th {\n",
       "        vertical-align: top;\n",
       "    }\n",
       "\n",
       "    .dataframe thead th {\n",
       "        text-align: right;\n",
       "    }\n",
       "</style>\n",
       "<table border=\"1\" class=\"dataframe\">\n",
       "  <thead>\n",
       "    <tr style=\"text-align: right;\">\n",
       "      <th></th>\n",
       "      <th>created_on</th>\n",
       "      <th>name</th>\n",
       "      <th>model_type</th>\n",
       "      <th>database_name</th>\n",
       "      <th>schema_name</th>\n",
       "      <th>comment</th>\n",
       "      <th>owner</th>\n",
       "      <th>default_version_name</th>\n",
       "      <th>versions</th>\n",
       "      <th>aliases</th>\n",
       "    </tr>\n",
       "  </thead>\n",
       "  <tbody>\n",
       "    <tr>\n",
       "      <th>0</th>\n",
       "      <td>2025-03-30 21:17:13.708000-07:00</td>\n",
       "      <td>ANOMALY_DETECTION_MODEL</td>\n",
       "      <td>USER_MODEL</td>\n",
       "      <td>TRADES_DB</td>\n",
       "      <td>TRADES_SCHEMA</td>\n",
       "      <td>None</td>\n",
       "      <td>ACCOUNTADMIN</td>\n",
       "      <td>V1</td>\n",
       "      <td>[\"V1\"]</td>\n",
       "      <td>{\"DEFAULT\":\"V1\",\"FIRST\":\"V1\",\"LAST\":\"V1\"}</td>\n",
       "    </tr>\n",
       "  </tbody>\n",
       "</table>\n",
       "</div>"
      ],
      "text/plain": [
       "                        created_on                     name  model_type  \\\n",
       "0 2025-03-30 21:17:13.708000-07:00  ANOMALY_DETECTION_MODEL  USER_MODEL   \n",
       "\n",
       "  database_name    schema_name comment         owner default_version_name  \\\n",
       "0     TRADES_DB  TRADES_SCHEMA    None  ACCOUNTADMIN                   V1   \n",
       "\n",
       "  versions                                    aliases  \n",
       "0   [\"V1\"]  {\"DEFAULT\":\"V1\",\"FIRST\":\"V1\",\"LAST\":\"V1\"}  "
      ]
     },
     "execution_count": 10,
     "metadata": {},
     "output_type": "execute_result"
    }
   ],
   "source": [
    "# 9. (Optional) List all models in the registry to confirm\n",
    "models_df = registry.show_models()\n",
    "print(\"List of models in the registry:\")\n",
    "models_df.head(10)"
   ]
  }
 ],
 "metadata": {
  "kernelspec": {
   "display_name": ".venv",
   "language": "python",
   "name": "python3"
  },
  "language_info": {
   "codemirror_mode": {
    "name": "ipython",
    "version": 3
   },
   "file_extension": ".py",
   "mimetype": "text/x-python",
   "name": "python",
   "nbconvert_exporter": "python",
   "pygments_lexer": "ipython3",
   "version": "3.11.11"
  }
 },
 "nbformat": 4,
 "nbformat_minor": 2
}
